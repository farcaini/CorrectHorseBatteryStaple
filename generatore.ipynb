{
 "cells": [
  {
   "cell_type": "code",
   "execution_count": 5,
   "metadata": {},
   "outputs": [],
   "source": [
    "import pandas as pd\n",
    "import numpy as np\n",
    "import random"
   ]
  },
  {
   "cell_type": "code",
   "execution_count": 26,
   "metadata": {},
   "outputs": [
    {
     "data": {
      "text/plain": [
       "'NebuloneLucidareIndeterminazioneGametogamia'"
      ]
     },
     "execution_count": 26,
     "metadata": {},
     "output_type": "execute_result"
    }
   ],
   "source": [
    "# Load the dictionary file into a list\n",
    "with open('dizionarioIta.txt', 'r') as file:\n",
    "    lines = file.readlines()\n",
    "\n",
    "# Remove newline character\n",
    "def noNL(s):\n",
    "    return s[:-1]\n",
    "\n",
    "# Convert the list into a DataFrame\n",
    "diz = pd.DataFrame({'word': lines})\n",
    "diz['word'] = diz['word'].apply(noNL).str.title()\n",
    "\n",
    "# Select 4 words randomly, and chain them together\n",
    "wordsList = diz['word'].sample(n=4)\n",
    "pwd = wordsList.str.cat(sep='')\n",
    "\n",
    "#diz\n",
    "#wordsList\n",
    "pwd"
   ]
  }
 ],
 "metadata": {
  "kernelspec": {
   "display_name": "Boolean",
   "language": "python",
   "name": "python3"
  },
  "language_info": {
   "codemirror_mode": {
    "name": "ipython",
    "version": 3
   },
   "file_extension": ".py",
   "mimetype": "text/x-python",
   "name": "python",
   "nbconvert_exporter": "python",
   "pygments_lexer": "ipython3",
   "version": "3.11.0"
  },
  "orig_nbformat": 4
 },
 "nbformat": 4,
 "nbformat_minor": 2
}
